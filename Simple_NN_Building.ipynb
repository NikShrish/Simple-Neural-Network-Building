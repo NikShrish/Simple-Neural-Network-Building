{
  "nbformat": 4,
  "nbformat_minor": 0,
  "metadata": {
    "colab": {
      "name": "Simple NN Building.ipynb",
      "provenance": [],
      "collapsed_sections": []
    },
    "kernelspec": {
      "name": "python3",
      "display_name": "Python 3"
    }
  },
  "cells": [
    {
      "cell_type": "code",
      "metadata": {
        "id": "298qa6aBXqX_",
        "colab_type": "code",
        "colab": {}
      },
      "source": [
        "import numpy as np"
      ],
      "execution_count": 0,
      "outputs": []
    },
    {
      "cell_type": "code",
      "metadata": {
        "id": "wfgmEnwocmKV",
        "colab_type": "code",
        "colab": {}
      },
      "source": [
        "\n",
        "def sigmoid_array(x):\n",
        "  return (1/(1+np.exp(-x)))             #formula logistic regression"
      ],
      "execution_count": 0,
      "outputs": []
    },
    {
      "cell_type": "code",
      "metadata": {
        "id": "6Ig4ZgDfc4fY",
        "colab_type": "code",
        "colab": {}
      },
      "source": [
        "\n",
        "numbers=np.arange(-10,10)\n",
        "sigmoid=sigmoid_array(numbers)"
      ],
      "execution_count": 0,
      "outputs": []
    },
    {
      "cell_type": "code",
      "metadata": {
        "id": "NqKBo6Q4dDpl",
        "colab_type": "code",
        "colab": {
          "base_uri": "https://localhost:8080/",
          "height": 281
        },
        "outputId": "0d851f19-b743-4c13-bb27-b108049055d9"
      },
      "source": [
        "import matplotlib.pyplot as plt\n",
        "fig,ax=plt.subplots()\n",
        "ax.plot(numbers,sigmoid)\n",
        "ax.grid(True)\n",
        "plt.title(\"Build Sigmoid Curve\")\n",
        "plt.show()\n"
      ],
      "execution_count": 58,
      "outputs": [
        {
          "output_type": "display_data",
          "data": {
            "image/png": "[encoded data removed]",
            "text/plain": [
              "<Figure size 432x288 with 1 Axes>"
            ]
          },
          "metadata": {
            "tags": [],
            "needs_background": "light"
          }
        }
      ]
    },
    {
      "cell_type": "markdown",
      "metadata": {
        "id": "ljiEej4-ed-Y",
        "colab_type": "text"
      },
      "source": [
        "## Using Rectifier Linear Unit Clipped the negative valuess to 0"
      ]
    },
    {
      "cell_type": "code",
      "metadata": {
        "id": "MQnRaDPJepQ3",
        "colab_type": "code",
        "colab": {}
      },
      "source": [
        "def rectifier(x):\n",
        "  return np.maximum(0,x)"
      ],
      "execution_count": 0,
      "outputs": []
    },
    {
      "cell_type": "code",
      "metadata": {
        "id": "VS2H7f-De1p2",
        "colab_type": "code",
        "colab": {
          "base_uri": "https://localhost:8080/",
          "height": 51
        },
        "outputId": "0f55d3c4-29a9-4674-abb2-9e58488b7c57"
      },
      "source": [
        "numbers"
      ],
      "execution_count": 60,
      "outputs": [
        {
          "output_type": "execute_result",
          "data": {
            "text/plain": [
              "array([-10,  -9,  -8,  -7,  -6,  -5,  -4,  -3,  -2,  -1,   0,   1,   2,\n",
              "         3,   4,   5,   6,   7,   8,   9])"
            ]
          },
          "metadata": {
            "tags": []
          },
          "execution_count": 60
        }
      ]
    },
    {
      "cell_type": "code",
      "metadata": {
        "id": "5R4XZ6GgfZfV",
        "colab_type": "code",
        "colab": {}
      },
      "source": [
        "relu=rectifier(numbers)      # RELU is a activation function"
      ],
      "execution_count": 0,
      "outputs": []
    },
    {
      "cell_type": "code",
      "metadata": {
        "id": "3mgIu1u4fjAb",
        "colab_type": "code",
        "colab": {
          "base_uri": "https://localhost:8080/",
          "height": 281
        },
        "outputId": "038bff3e-e048-432f-e73d-71acca3d4194"
      },
      "source": [
        "fig,ax=plt.subplots()\n",
        "ax.plot(numbers,relu)\n",
        "ax.grid(True)\n",
        "plt.title(\"Clipped negative values using Rectifier Linear Unit\")       #all negative values will be clipped\n",
        "plt.show()"
      ],
      "execution_count": 62,
      "outputs": [
        {
          "output_type": "display_data",
          "data": {
            "image/png": "[encoded data removed]",
            "text/plain": [
              "<Figure size 432x288 with 1 Axes>"
            ]
          },
          "metadata": {
            "tags": [],
            "needs_background": "light"
          }
        }
      ]
    },
    {
      "cell_type": "code",
      "metadata": {
        "id": "SmuNhOqDj0w6",
        "colab_type": "code",
        "colab": {}
      },
      "source": [
        "from keras.datasets import mnist\n",
        "from keras import models\n",
        "from keras import layers\n",
        "from keras.utils import to_categorical"
      ],
      "execution_count": 0,
      "outputs": []
    },
    {
      "cell_type": "code",
      "metadata": {
        "id": "cfS-eneAj--Y",
        "colab_type": "code",
        "colab": {}
      },
      "source": [
        "(train_images,train_label),(test_images,test_labels)=mnist.load_data()      #loaded dataset from keras library\n",
        "\n"
      ],
      "execution_count": 0,
      "outputs": []
    },
    {
      "cell_type": "code",
      "metadata": {
        "id": "bvElThGnklCF",
        "colab_type": "code",
        "colab": {}
      },
      "source": [
        "#stacking up layers\n",
        "network=models.Sequential()"
      ],
      "execution_count": 0,
      "outputs": []
    },
    {
      "cell_type": "code",
      "metadata": {
        "id": "CNap_8JdlrBt",
        "colab_type": "code",
        "colab": {}
      },
      "source": [
        "network.add(layers.Dense(784, activation=\"relu\",input_shape=(28*28,)))    #input for Training\n",
        "network.add(layers.Dense(784, activation=\"relu\",input_shape=(28*28,)))    #input for testing\n",
        "network.add(layers.Dense(10, activation=\"softmax\"))                       #activation"
      ],
      "execution_count": 0,
      "outputs": []
    },
    {
      "cell_type": "code",
      "metadata": {
        "id": "m1DUtMmUnxBB",
        "colab_type": "code",
        "colab": {}
      },
      "source": [
        "network.compile(optimizer='adam', loss='categorical_crossentropy',metrics=['accuracy'])    #try to minimize cost/loss function\n"
      ],
      "execution_count": 0,
      "outputs": []
    },
    {
      "cell_type": "code",
      "metadata": {
        "id": "rMRE768tn2Kz",
        "colab_type": "code",
        "colab": {}
      },
      "source": [
        "\n",
        "## neural network is created\n"
      ],
      "execution_count": 0,
      "outputs": []
    },
    {
      "cell_type": "code",
      "metadata": {
        "id": "rudzMLwBphU4",
        "colab_type": "code",
        "colab": {}
      },
      "source": [
        "#we have created skeleton now we will add the values\n",
        "train_images=train_images.reshape((60000,28*28))\n",
        "train_images=train_images.astype('float32')/255           #convert images in float type.\n",
        "test_images=test_images.reshape((10000,28*28))\n",
        "test_images=test_images.astype('float32')/255"
      ],
      "execution_count": 0,
      "outputs": []
    },
    {
      "cell_type": "code",
      "metadata": {
        "id": "7hYlS15AqkBD",
        "colab_type": "code",
        "colab": {}
      },
      "source": [
        "# train the images now we will train the categories \n",
        "train_label=to_categorical(train_label)\n",
        "test_labels=to_categorical(test_labels)\n"
      ],
      "execution_count": 0,
      "outputs": []
    },
    {
      "cell_type": "code",
      "metadata": {
        "id": "ZhuRqNusrMM3",
        "colab_type": "code",
        "colab": {
          "base_uri": "https://localhost:8080/",
          "height": 204
        },
        "outputId": "79c8a550-9cd4-45a9-98ae-4d31bebe4c93"
      },
      "source": [
        "network.fit(train_images,train_label,epochs=5,batch_size=128)"
      ],
      "execution_count": 71,
      "outputs": [
        {
          "output_type": "stream",
          "text": [
            "Epoch 1/5\n",
            "60000/60000 [==============================] - 13s 214us/step - loss: 0.1979 - accuracy: 0.9409\n",
            "Epoch 2/5\n",
            "60000/60000 [==============================] - 13s 211us/step - loss: 0.0732 - accuracy: 0.9773\n",
            "Epoch 3/5\n",
            "60000/60000 [==============================] - 13s 213us/step - loss: 0.0484 - accuracy: 0.9845\n",
            "Epoch 4/5\n",
            "60000/60000 [==============================] - 13s 210us/step - loss: 0.0352 - accuracy: 0.9887\n",
            "Epoch 5/5\n",
            "60000/60000 [==============================] - 13s 213us/step - loss: 0.0262 - accuracy: 0.9913\n"
          ],
          "name": "stdout"
        },
        {
          "output_type": "execute_result",
          "data": {
            "text/plain": [
              "<keras.callbacks.callbacks.History at 0x7fc8c4d7bb00>"
            ]
          },
          "metadata": {
            "tags": []
          },
          "execution_count": 71
        }
      ]
    },
    {
      "cell_type": "code",
      "metadata": {
        "id": "GeX_p2fdrsTU",
        "colab_type": "code",
        "colab": {
          "base_uri": "https://localhost:8080/",
          "height": 34
        },
        "outputId": "cd96c49c-d65e-4a16-917f-2170274a7e35"
      },
      "source": [
        "test_loss,test_accuracy=network.evaluate(test_images,test_labels)\n"
      ],
      "execution_count": 72,
      "outputs": [
        {
          "output_type": "stream",
          "text": [
            "10000/10000 [==============================] - 1s 95us/step\n"
          ],
          "name": "stdout"
        }
      ]
    },
    {
      "cell_type": "code",
      "metadata": {
        "id": "N4cp6jhztEuU",
        "colab_type": "code",
        "colab": {
          "base_uri": "https://localhost:8080/",
          "height": 34
        },
        "outputId": "229e5afc-150f-453c-a85e-66debb176b7e"
      },
      "source": [
        "print(test_loss,test_accuracy)\n"
      ],
      "execution_count": 73,
      "outputs": [
        {
          "output_type": "stream",
          "text": [
            "0.06927628525545915 0.9793999791145325\n"
          ],
          "name": "stdout"
        }
      ]
    },
    {
      "cell_type": "code",
      "metadata": {
        "id": "i0MjZ3LcuWmS",
        "colab_type": "code",
        "colab": {}
      },
      "source": [
        "#accuracy is 97% and loss is very very less i.e. 0.09%"
      ],
      "execution_count": 0,
      "outputs": []
    }
  ]
}